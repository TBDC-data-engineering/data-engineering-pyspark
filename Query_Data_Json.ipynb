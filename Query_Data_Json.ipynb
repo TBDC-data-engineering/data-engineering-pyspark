{
 "cells": [
  {
   "cell_type": "code",
   "id": "initial_id",
   "metadata": {
    "collapsed": true,
    "ExecuteTime": {
     "end_time": "2025-07-07T23:24:12.518717Z",
     "start_time": "2025-07-07T23:24:12.500688Z"
    }
   },
   "source": [
    "from pyspark.sql import SparkSession\n",
    "from pyspark.sql.functions import explode, col\n",
    "from pyspark.sql.types import StructType, StructField, StringType, IntegerType, ArrayType\n",
    "\n"
   ],
   "outputs": [],
   "execution_count": 73
  },
  {
   "metadata": {
    "ExecuteTime": {
     "end_time": "2025-07-07T23:28:09.851415Z",
     "start_time": "2025-07-07T23:28:08.455948Z"
    }
   },
   "cell_type": "code",
   "source": [
    "#df = spark.read.option(\"multiLine\", \"true\").json(\"file:///data/data.json\")\n",
    "df = spark.read.json(\"file:///data/data.jsonl\")"
   ],
   "id": "d8d394e81a4c804d",
   "outputs": [
    {
     "name": "stderr",
     "output_type": "stream",
     "text": [
      "                                                                                \r"
     ]
    }
   ],
   "execution_count": 82
  },
  {
   "metadata": {
    "ExecuteTime": {
     "end_time": "2025-07-07T23:05:20.154788Z",
     "start_time": "2025-07-07T23:05:20.135540Z"
    }
   },
   "cell_type": "code",
   "source": "df.printSchema()",
   "id": "28269a1ecdca2eb8",
   "outputs": [
    {
     "name": "stdout",
     "output_type": "stream",
     "text": [
      "root\n",
      " |-- id: string (nullable = true)\n",
      " |-- orders: array (nullable = true)\n",
      " |    |-- element: struct (containsNull = true)\n",
      " |    |    |-- order_id: string (nullable = true)\n",
      " |    |    |-- price: double (nullable = true)\n",
      " |    |    |-- product: string (nullable = true)\n",
      " |    |    |-- quantity: long (nullable = true)\n",
      " |-- registration_date: string (nullable = true)\n",
      " |-- user_info: struct (nullable = true)\n",
      " |    |-- age: long (nullable = true)\n",
      " |    |-- contact: struct (nullable = true)\n",
      " |    |    |-- email: string (nullable = true)\n",
      " |    |    |-- phone: string (nullable = true)\n",
      " |    |-- name: string (nullable = true)\n",
      "\n"
     ]
    }
   ],
   "execution_count": 52
  },
  {
   "metadata": {
    "ExecuteTime": {
     "end_time": "2025-07-07T23:28:26.085679Z",
     "start_time": "2025-07-07T23:28:25.997081Z"
    }
   },
   "cell_type": "code",
   "source": [
    "user_information = df.select(\n",
    "    col(\"id\"),\n",
    "    col(\"user_info.name\").alias(\"user_name\"),\n",
    "    col(\"user_info.age\").alias(\"user_age\"),\n",
    "    col(\"orders\")\n",
    ")"
   ],
   "id": "355051b6cda36f50",
   "outputs": [],
   "execution_count": 83
  },
  {
   "metadata": {
    "ExecuteTime": {
     "end_time": "2025-07-07T23:19:57.647984Z",
     "start_time": "2025-07-07T23:19:57.410203Z"
    }
   },
   "cell_type": "code",
   "source": "user_information.show()",
   "id": "d1a15ca1d843b6a6",
   "outputs": [
    {
     "name": "stdout",
     "output_type": "stream",
     "text": [
      "+---+-------------+--------+--------------------+\n",
      "| id|    user_name|user_age|              orders|\n",
      "+---+-------------+--------+--------------------+\n",
      "|  1|User_PpdCAH8v|      48|[{ZER798, 1372.96...|\n",
      "|  2|User_bdppMhcQ|      50|[{MTV175, 912.13,...|\n",
      "|  3|User_Lgbgkvbe|      68|[{AC6933, 786.6, ...|\n",
      "|  4|User_c6gnD7DK|      68|[{AZX833, 1293.44...|\n",
      "|  5|User_KINdU4te|      31|[{FG2733, 1148.28...|\n",
      "|  6|User_Bhwx9vKA|      56|[{EYO396, 709.79,...|\n",
      "|  7|User_Dv4FxvtH|      18|[{BFV441, 818.65,...|\n",
      "|  8|User_1zjpKmpx|      42|[{QFV408, 936.84,...|\n",
      "|  9|User_ijguD6Aa|      56|[{RBK381, 494.84,...|\n",
      "| 10|User_liRp8H21|      39|[{R1P967, 729.14,...|\n",
      "| 11|User_xv366K0w|      57|[{DXZ600, 409.84,...|\n",
      "| 12|User_7CuDM5DP|      33|[{RKZ848, 54.45, ...|\n",
      "| 13|User_CqaLE0sc|      37|[{F7V397, 1199.31...|\n",
      "| 14|User_lzNPGciA|      27|[{PYZ993, 1189.99...|\n",
      "| 15|User_hhJZOCjC|      29|[{XYO994, 82.48, ...|\n",
      "| 16|User_c3GcIhMD|      30|[{FN3260, 716.45,...|\n",
      "| 17|User_Wm8ZH1Xk|      32|[{N4S181, 1063.28...|\n",
      "| 18|User_pxTMgNcI|      54|[{2E5495, 1071.29...|\n",
      "| 19|User_RPMmLdQ8|      61|[{B42445, 323.95,...|\n",
      "| 20|User_rzxtXsEN|      52|[{RVI975, 404.69,...|\n",
      "+---+-------------+--------+--------------------+\n",
      "only showing top 20 rows\n",
      "\n"
     ]
    }
   ],
   "execution_count": 68
  },
  {
   "metadata": {
    "ExecuteTime": {
     "end_time": "2025-07-07T23:28:42.566247Z",
     "start_time": "2025-07-07T23:28:42.495045Z"
    }
   },
   "cell_type": "code",
   "source": [
    "contact_information = df.select(\n",
    "    col(\"user_info.contact.email\").alias(\"email\"),\n",
    "    col(\"user_info.contact.phone\").alias(\"phone\")\n",
    ")\n"
   ],
   "id": "78d12b6c42c16224",
   "outputs": [],
   "execution_count": 84
  },
  {
   "metadata": {
    "ExecuteTime": {
     "end_time": "2025-07-07T23:05:51.040890Z",
     "start_time": "2025-07-07T23:05:50.786518Z"
    }
   },
   "cell_type": "code",
   "source": "contact_information.show()",
   "id": "bceab73023e01692",
   "outputs": [
    {
     "name": "stdout",
     "output_type": "stream",
     "text": [
      "+---------------+------------+\n",
      "|          email|       phone|\n",
      "+---------------+------------+\n",
      "|5trxz@oigfx.com|461-609-3880|\n",
      "|hohkb@jnziw.com|407-509-7895|\n",
      "|0gpmp@utdop.com|169-487-6063|\n",
      "|qs1cm@jpfat.com|785-833-3742|\n",
      "|zinat@pgulr.com|824-116-3284|\n",
      "|jsoaq@sb6zm.com|832-808-9372|\n",
      "|blm3x@ppluj.com|538-596-8053|\n",
      "|ka5eu@fzybi.com|257-979-5267|\n",
      "|oi8l8@6wpnm.com|671-367-4046|\n",
      "|toouj@jmmbx.com|284-879-9564|\n",
      "|vtenn@boddm.com|104-606-4677|\n",
      "|1f6tu@fcgza.com|249-630-5977|\n",
      "|uspjd@qsnej.com|511-859-9058|\n",
      "|diad8@7ptgx.com|998-639-1253|\n",
      "|5ffk1@mzlpd.com|165-358-9967|\n",
      "|ppwzf@e3cie.com|970-650-2768|\n",
      "|d2lj0@tbdci.com|709-239-2831|\n",
      "|wmadc@mfvbv.com|461-723-3372|\n",
      "|kecqf@mylon.com|292-745-3025|\n",
      "|uxkj6@hucy3.com|138-737-3321|\n",
      "+---------------+------------+\n",
      "only showing top 20 rows\n",
      "\n"
     ]
    }
   ],
   "execution_count": 56
  },
  {
   "metadata": {
    "ExecuteTime": {
     "end_time": "2025-07-07T23:28:48.362451Z",
     "start_time": "2025-07-07T23:28:48.280826Z"
    }
   },
   "cell_type": "code",
   "source": "df_orders = user_information.withColumn(\"order\", explode(col(\"orders\")))",
   "id": "277657590736dafc",
   "outputs": [],
   "execution_count": 85
  },
  {
   "metadata": {
    "ExecuteTime": {
     "end_time": "2025-07-07T23:06:14.104948Z",
     "start_time": "2025-07-07T23:06:14.090241Z"
    }
   },
   "cell_type": "code",
   "source": "df_orders.printSchema()",
   "id": "2eac9544ef858919",
   "outputs": [
    {
     "name": "stdout",
     "output_type": "stream",
     "text": [
      "root\n",
      " |-- id: string (nullable = true)\n",
      " |-- user_name: string (nullable = true)\n",
      " |-- user_age: long (nullable = true)\n",
      " |-- orders: array (nullable = true)\n",
      " |    |-- element: struct (containsNull = true)\n",
      " |    |    |-- order_id: string (nullable = true)\n",
      " |    |    |-- price: double (nullable = true)\n",
      " |    |    |-- product: string (nullable = true)\n",
      " |    |    |-- quantity: long (nullable = true)\n",
      " |-- order: struct (nullable = true)\n",
      " |    |-- order_id: string (nullable = true)\n",
      " |    |-- price: double (nullable = true)\n",
      " |    |-- product: string (nullable = true)\n",
      " |    |-- quantity: long (nullable = true)\n",
      "\n"
     ]
    }
   ],
   "execution_count": 58
  },
  {
   "metadata": {
    "ExecuteTime": {
     "end_time": "2025-07-07T23:28:52.767200Z",
     "start_time": "2025-07-07T23:28:52.714837Z"
    }
   },
   "cell_type": "code",
   "source": [
    "df_orders = df_orders.select(\n",
    "    col(\"order.order_id\").alias(\"order_id\"),\n",
    "    col(\"order.product\").alias(\"product\"),\n",
    "    col(\"order.quantity\").alias(\"quantity\")\n",
    ")"
   ],
   "id": "afc87e078c99aa39",
   "outputs": [],
   "execution_count": 86
  },
  {
   "metadata": {
    "ExecuteTime": {
     "end_time": "2025-07-07T23:06:20.816006Z",
     "start_time": "2025-07-07T23:06:20.514964Z"
    }
   },
   "cell_type": "code",
   "source": "df_orders.show()",
   "id": "4f4cfb860f32f65b",
   "outputs": [
    {
     "name": "stdout",
     "output_type": "stream",
     "text": [
      "+--------+----------+--------+\n",
      "|order_id|   product|quantity|\n",
      "+--------+----------+--------+\n",
      "|  ZER798|   Monitor|       1|\n",
      "|  MTV175|   Monitor|       1|\n",
      "|  KAU818|Microphone|       5|\n",
      "|  XXP895|Headphones|       1|\n",
      "|  AC6933|   Speaker|       5|\n",
      "|  HYF246|  Keyboard|       3|\n",
      "|  AZX833|    Laptop|       3|\n",
      "|  DHA249|Microphone|       2|\n",
      "|  TFI728|    Camera|       1|\n",
      "|  FG2733|Microphone|       1|\n",
      "|  XAV777|Microphone|       3|\n",
      "|  BDF204|     Mouse|       5|\n",
      "|  EYO396|    Webcam|       5|\n",
      "|  BFV441|    Camera|       1|\n",
      "|  QFV408|     Mouse|       1|\n",
      "|  0C7696|Headphones|       2|\n",
      "|  D16143|   Printer|       5|\n",
      "|  RBK381|Microphone|       2|\n",
      "|  3IN825|Headphones|       4|\n",
      "|  R1P967|   Speaker|       1|\n",
      "+--------+----------+--------+\n",
      "only showing top 20 rows\n",
      "\n"
     ]
    }
   ],
   "execution_count": 60
  },
  {
   "metadata": {
    "ExecuteTime": {
     "end_time": "2025-07-07T23:29:01.340915Z",
     "start_time": "2025-07-07T23:29:01.278301Z"
    }
   },
   "cell_type": "code",
   "source": "user_information = user_information.drop(\"orders\")",
   "id": "e23c2ef33d7a8283",
   "outputs": [],
   "execution_count": 87
  },
  {
   "metadata": {
    "ExecuteTime": {
     "end_time": "2025-07-07T23:25:07.331835Z",
     "start_time": "2025-07-07T23:25:07.127295Z"
    }
   },
   "cell_type": "code",
   "source": "user_information.show()",
   "id": "5b26466f68e61126",
   "outputs": [
    {
     "name": "stdout",
     "output_type": "stream",
     "text": [
      "+---+-------------+--------+\n",
      "| id|    user_name|user_age|\n",
      "+---+-------------+--------+\n",
      "|  1|User_PpdCAH8v|      48|\n",
      "|  2|User_bdppMhcQ|      50|\n",
      "|  3|User_Lgbgkvbe|      68|\n",
      "|  4|User_c6gnD7DK|      68|\n",
      "|  5|User_KINdU4te|      31|\n",
      "|  6|User_Bhwx9vKA|      56|\n",
      "|  7|User_Dv4FxvtH|      18|\n",
      "|  8|User_1zjpKmpx|      42|\n",
      "|  9|User_ijguD6Aa|      56|\n",
      "| 10|User_liRp8H21|      39|\n",
      "| 11|User_xv366K0w|      57|\n",
      "| 12|User_7CuDM5DP|      33|\n",
      "| 13|User_CqaLE0sc|      37|\n",
      "| 14|User_lzNPGciA|      27|\n",
      "| 15|User_hhJZOCjC|      29|\n",
      "| 16|User_c3GcIhMD|      30|\n",
      "| 17|User_Wm8ZH1Xk|      32|\n",
      "| 18|User_pxTMgNcI|      54|\n",
      "| 19|User_RPMmLdQ8|      61|\n",
      "| 20|User_rzxtXsEN|      52|\n",
      "+---+-------------+--------+\n",
      "only showing top 20 rows\n",
      "\n"
     ]
    }
   ],
   "execution_count": 78
  },
  {
   "metadata": {
    "ExecuteTime": {
     "end_time": "2025-07-07T23:29:26.134867Z",
     "start_time": "2025-07-07T23:29:12.267511Z"
    }
   },
   "cell_type": "code",
   "source": [
    "user_information.mode(\"overwrite\").write.parquet(\"/data/user_information\")\n",
    "contact_information.mode(\"overwrite\").write.parquet(\"/data/contact_information\")\n",
    "df_orders.write.mode(\"overwrite\").parquet(\"/data/df_orders\")\n",
    "\n",
    "\n"
   ],
   "id": "9ca1689223da01cb",
   "outputs": [
    {
     "name": "stderr",
     "output_type": "stream",
     "text": [
      "25/07/07 23:29:13 WARN MemoryManager: Total allocation exceeds 95.00% (1,020,054,720 bytes) of heap memory\n",
      "Scaling row group sizes to 95.00% for 8 writers\n",
      "25/07/07 23:29:18 WARN MemoryManager: Total allocation exceeds 95.00% (1,020,054,720 bytes) of heap memory\n",
      "Scaling row group sizes to 95.00% for 8 writers\n",
      "25/07/07 23:29:23 WARN MemoryManager: Total allocation exceeds 95.00% (1,020,054,720 bytes) of heap memory\n",
      "Scaling row group sizes to 95.00% for 8 writers\n",
      "                                                                                \r"
     ]
    }
   ],
   "execution_count": 88
  },
  {
   "metadata": {
    "ExecuteTime": {
     "end_time": "2025-07-07T23:39:53.667652Z",
     "start_time": "2025-07-07T23:39:29.758038Z"
    }
   },
   "cell_type": "code",
   "source": [
    "import json\n",
    "import random\n",
    "import string\n",
    "import os\n",
    "import time\n",
    "\n",
    "def generate_random_string(length=10):\n",
    "    \"\"\"Generates a random string of specified length.\"\"\"\n",
    "    return ''.join(random.choices(string.ascii_letters + string.digits, k=length))\n",
    "\n",
    "def generate_random_email():\n",
    "    \"\"\"Generates a random email address.\"\"\"\n",
    "    return f\"{generate_random_string(5).lower()}@{generate_random_string(5).lower()}.com\"\n",
    "\n",
    "def generate_random_phone():\n",
    "    \"\"\"Generates a random phone number.\"\"\"\n",
    "    return f\"{random.randint(100,999)}-{random.randint(100,999)}-{random.randint(1000,9999)}\"\n",
    "\n",
    "def generate_random_order():\n",
    "    \"\"\"Generates a random order object.\"\"\"\n",
    "    products = [\"Laptop\", \"Mouse\", \"Keyboard\", \"Monitor\", \"Webcam\", \"Headphones\", \"Microphone\", \"Printer\", \"Speaker\", \"Camera\"]\n",
    "    return {\n",
    "        \"order_id\": generate_random_string(3).upper() + str(random.randint(100, 999)),\n",
    "        \"product\": random.choice(products),\n",
    "        \"quantity\": random.randint(1, 5),\n",
    "        \"price\": round(random.uniform(10.0, 1500.0), 2) # Added a price field\n",
    "    }\n",
    "\n",
    "def generate_json_document(doc_id):\n",
    "    \"\"\"Generates a single random JSON document based on your provided structure.\"\"\"\n",
    "    num_orders = random.randint(1, 4) # Each user can have between 1 and 4 orders\n",
    "    orders_list = [generate_random_order() for _ in range(num_orders)]\n",
    "\n",
    "    return {\n",
    "        \"id\": str(doc_id),\n",
    "        \"user_info\": {\n",
    "            \"name\": f\"User_{generate_random_string(8)}\",\n",
    "            \"age\": random.randint(18, 70),\n",
    "            \"contact\": {\n",
    "                \"email\": generate_random_email(),\n",
    "                \"phone\": generate_random_phone()\n",
    "            }\n",
    "        },\n",
    "        \"orders\": orders_list,\n",
    "        \"registration_date\": f\"202{random.randint(0,4)}-{random.randint(1,12):02d}-{random.randint(1,28):02d}\" # Random date\n",
    "    }\n",
    "\n",
    "# --- Main script to generate the file ---\n",
    "\n",
    "file_name = \"/data/data.jsonl\" # Using .jsonl for JSON Lines format\n",
    "num_documents = 1_000_000 # One million documents\n",
    "\n",
    "print(f\"Starting to generate {num_documents} JSON documents into '{file_name}'...\")\n",
    "start_time = time.time()\n",
    "\n",
    "with open(file_name, 'w') as f:\n",
    "    for i in range(1, num_documents + 1):\n",
    "        doc = generate_json_document(i)\n",
    "        f.write(json.dumps(doc) + '\\n') # Write each JSON object on a new line\n",
    "\n",
    "        if i % 100000 == 0: # Print progress every 100,000 documents\n",
    "            print(f\"  Generated {i:,} documents...\")\n",
    "\n",
    "end_time = time.time()\n",
    "duration = end_time - start_time\n",
    "print(f\"Finished generating {num_documents} documents in {duration:.2f} seconds.\")\n",
    "print(f\"The file '{file_name}' is ready in your current directory.\")\n",
    "print(\"\\nRemember, this file will be quite large (potentially hundreds of MBs to a few GBs).\")"
   ],
   "id": "97bac2fc10b1fa06",
   "outputs": [
    {
     "name": "stdout",
     "output_type": "stream",
     "text": [
      "Starting to generate 1000000 JSON documents into '/data/data.jsonl'...\n",
      "  Generated 100,000 documents...\n",
      "  Generated 200,000 documents...\n",
      "  Generated 300,000 documents...\n",
      "  Generated 400,000 documents...\n",
      "  Generated 500,000 documents...\n",
      "  Generated 600,000 documents...\n",
      "  Generated 700,000 documents...\n",
      "  Generated 800,000 documents...\n",
      "  Generated 900,000 documents...\n",
      "  Generated 1,000,000 documents...\n",
      "Finished generating 1000000 documents in 23.89 seconds.\n",
      "The file '/data/data.jsonl' is ready in your current directory.\n",
      "\n",
      "Remember, this file will be quite large (potentially hundreds of MBs to a few GBs).\n"
     ]
    }
   ],
   "execution_count": 2
  },
  {
   "metadata": {},
   "cell_type": "code",
   "outputs": [],
   "execution_count": null,
   "source": [
    "from pyspark.sql import SparkSession\n",
    "from pyspark.sql.functions import explode, col\n",
    "from pyspark.sql.types import StructType, StructField, StringType, IntegerType, ArrayType\n",
    "\n",
    "# Initialize SparkSession\n",
    "spark = SparkSession.builder \\\n",
    "    .appName(\"NestedJsonExtraction\") \\\n",
    "    .getOrCreate()\n",
    "\n",
    "# 1. Load the JSON data\n",
    "# Use multiLine=True if your JSON objects span multiple lines\n",
    "df = spark.read.option(\"multiLine\", \"true\").json(\"data.json\")\n",
    "\n",
    "# Print the inferred schema to understand the structure\n",
    "df.printSchema()\n",
    "# Output will look something like this:\n",
    "# root\n",
    "#  |-- id: string (nullable = true)\n",
    "#  |-- orders: array (nullable = true)\n",
    "#  |    |-- element: struct (containsNull = true)\n",
    "#  |    |    |-- order_id: string (nullable = true)\n",
    "#  |    |    |-- product: string (nullable = true)\n",
    "#  |    |    |-- quantity: long (nullable = true)\n",
    "#  |-- user_info: struct (nullable = true)\n",
    "#  |    |-- contact: struct (nullable = true)\n",
    "#  |    |    |-- email: string (nullable = true)\n",
    "#  |    |    |-- phone: string (nullable = true)\n",
    "#  |    |-- name: string (nullable = true)\n",
    "#  |    |-- age: long (nullable = true)\n",
    "\n",
    "# 2. Flatten the 'user_info' struct\n",
    "# You can access nested fields directly using dot notation\n",
    "df_flattened_user = df.select(\n",
    "    col(\"id\"),\n",
    "    col(\"user_info.name\").alias(\"user_name\"),\n",
    "    col(\"user_info.age\").alias(\"user_age\"),\n",
    "    col(\"user_info.contact.email\").alias(\"user_email\"),\n",
    "    col(\"user_info.contact.phone\").alias(\"user_phone\"),\n",
    "    col(\"orders\") # Keep the orders array for now\n",
    ")\n",
    "\n",
    "df_flattened_user.printSchema()\n",
    "# root\n",
    "#  |-- id: string (nullable = true)\n",
    "#  |-- user_name: string (nullable = true)\n",
    "#  |-- user_age: long (nullable = true)\n",
    "#  |-- user_email: string (nullable = true)\n",
    "#  |-- user_phone: string (nullable = true)\n",
    "#  |-- orders: array (nullable = true)\n",
    "#  |    |-- element: struct (containsNull = true)\n",
    "#  |    |    |-- order_id: string (nullable = true)\n",
    "#  |    |    |-- product: string (nullable = true)\n",
    "#  |    |    |-- quantity: long (nullable = true)\n",
    "\n",
    "# 3. Flatten the 'orders' array using explode\n",
    "# This will create a new row for each item in the 'orders' array\n",
    "df_exploded_orders = df_flattened_user.withColumn(\"order\", explode(col(\"orders\")))\n",
    "\n",
    "df_exploded_orders.printSchema()\n",
    "# root\n",
    "#  |-- id: string (nullable = true)\n",
    "#  |-- user_name: string (nullable = true)\n",
    "#  |-- user_age: long (nullable = true)\n",
    "#  |-- user_email: string (nullable = true)\n",
    "#  |-- user_phone: string (nullable = true)\n",
    "#  |-- orders: array (nullable = true) <-- This column can now be dropped\n",
    "#  |    |-- element: struct (containsNull = true)\n",
    "#  |    |    |-- order_id: string (nullable = true)\n",
    "#  |    |    |-- product: string (nullable = true)\n",
    "#  |    |    |-- quantity: long (nullable = true)\n",
    "#  |-- order: struct (nullable = true) <-- New column representing a single order\n",
    "\n",
    "# 4. Extract fields from the 'order' struct\n",
    "df_final = df_exploded_orders.select(\n",
    "    col(\"id\"),\n",
    "    col(\"user_name\"),\n",
    "    col(\"user_age\"),\n",
    "    col(\"user_email\"),\n",
    "    col(\"user_phone\"),\n",
    "    col(\"order.order_id\").alias(\"order_id\"),\n",
    "    col(\"order.product\").alias(\"product_name\"),\n",
    "    col(\"order.quantity\").alias(\"product_quantity\")\n",
    ")\n",
    "\n",
    "df_final.show()\n",
    "# +---+---------+--------+-----------------+----------------+--------+------------+----------------+\n",
    "# | id|user_name|user_age|       user_email|      user_phone|order_id|product_name|product_quantity|\n",
    "# +---+---------+--------+-----------------+----------------+--------+------------+----------------+\n",
    "# |  1|    Alice|      30|alice@example.com|123-456-7890|      A1|      Laptop|               1|\n",
    "# |  1|    Alice|      30|alice@example.com|123-456-7890|      A2|       Mouse|               2|\n",
    "# |  2|      Bob|      25|  bob@example.com|987-654-3210|      B1|    Keyboard|               1|\n",
    "# +---+---------+--------+-----------------+----------------+--------+------------+----------------+\n",
    "\n",
    "# Stop SparkSession\n",
    "spark.stop()"
   ],
   "id": "f08555339d1319a7"
  }
 ],
 "metadata": {
  "kernelspec": {
   "display_name": "Python 3",
   "language": "python",
   "name": "python3"
  },
  "language_info": {
   "codemirror_mode": {
    "name": "ipython",
    "version": 2
   },
   "file_extension": ".py",
   "mimetype": "text/x-python",
   "name": "python",
   "nbconvert_exporter": "python",
   "pygments_lexer": "ipython2",
   "version": "2.7.6"
  }
 },
 "nbformat": 4,
 "nbformat_minor": 5
}
