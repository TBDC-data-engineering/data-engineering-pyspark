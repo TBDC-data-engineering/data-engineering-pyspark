{
 "cells": [
  {
   "cell_type": "markdown",
   "id": "4eeacd27",
   "metadata": {},
   "source": [
    "## Schema Manipulation and Data Treatment and Handling missing data\n"
   ]
  },
  {
   "cell_type": "code",
   "execution_count": 7,
   "id": "0a782c77",
   "metadata": {},
   "outputs": [],
   "source": [
    "\n",
    "from pyspark.sql.types import StructType, StructField, IntegerType, StringType\n",
    "from pyspark.sql import Column\n",
    "from pyspark.sql.functions import lower \n",
    "schema = StructType([    \n",
    "        StructField(\"user_id\", IntegerType()),\n",
    "        StructField(\"device_id\", IntegerType()),    \n",
    "        StructField(\"referrer\", StringType()),\n",
    "        StructField(\"host\", StringType()),\n",
    "        StructField(\"url\", StringType()),\n",
    "        StructField(\"event_time\", StringType())])"
   ]
  },
  {
   "cell_type": "code",
   "execution_count": null,
   "id": "25330a36",
   "metadata": {},
   "outputs": [
    {
     "name": "stdout",
     "output_type": "stream",
     "text": [
      "root\n",
      " |-- user_id: integer (nullable = true)\n",
      " |-- device_id: integer (nullable = true)\n",
      " |-- referrer: string (nullable = true)\n",
      " |-- host: string (nullable = true)\n",
      " |-- url: string (nullable = true)\n",
      " |-- event_time: string (nullable = true)\n",
      "\n",
      "+-----------+----------+--------+--------------------+----------+--------------------+--------------------+-----------+\n",
      "|    user_id| device_id|referrer|                host|       url|          event_time|           how_lower|      value|\n",
      "+-----------+----------+--------+--------------------+----------+--------------------+--------------------+-----------+\n",
      "| 1037710827| 532630305|    NULL| www.zachwilson.tech|         /|2021-03-08 17:27:...| www.zachwilson.tech| 1037710837|\n",
      "|  925588856| 532630305|    NULL|    www.eczachly.com|         /|2021-05-10 11:26:...|    www.eczachly.com|  925588866|\n",
      "|-1180485268| 532630305|    NULL|admin.zachwilson....|         /|2021-02-17 16:19:...|admin.zachwilson....|-1180485258|\n",
      "|-1044833855| 532630305|    NULL| www.zachwilson.tech|         /|2021-09-24 15:53:...| www.zachwilson.tech|-1044833845|\n",
      "|  747494706| 532630305|    NULL| www.zachwilson.tech|         /|2021-09-26 16:03:...| www.zachwilson.tech|  747494716|\n",
      "|  747494706| 532630305|    NULL|admin.zachwilson....|         /|2021-02-21 16:08:...|admin.zachwilson....|  747494716|\n",
      "| -824540328| 532630305|    NULL|admin.zachwilson....|         /|2021-09-28 17:23:...|admin.zachwilson....| -824540318|\n",
      "| -824540328| 532630305|    NULL|    www.eczachly.com|         /|2021-09-29 01:22:...|    www.eczachly.com| -824540318|\n",
      "| 1833036683| 532630305|    NULL|admin.zachwilson....|         /|2021-01-24 03:15:...|admin.zachwilson....| 1833036693|\n",
      "|-2134824313| 532630305|    NULL|    www.eczachly.com|         /|2021-01-25 00:03:...|    www.eczachly.com|-2134824303|\n",
      "|-1809929467|-906264142|    NULL|admin.zachwilson....|/.git/HEAD|2021-02-22 01:36:...|admin.zachwilson....|-1809929457|\n",
      "| 2002285749|-906264142|    NULL|    www.eczachly.com|         /|2021-02-22 02:25:...|    www.eczachly.com| 2002285759|\n",
      "|-1562965412| 532630305|    NULL| www.zachwilson.tech|         /|2021-01-30 20:46:...| www.zachwilson.tech|-1562965402|\n",
      "|-1099860451| 532630305|    NULL|    www.eczachly.com|         /|2021-02-04 23:49:...|    www.eczachly.com|-1099860441|\n",
      "| 1246896869|-906264142|    NULL| www.zachwilson.tech|         /|2021-02-22 02:50:...| www.zachwilson.tech| 1246896879|\n",
      "| -629331502|-906264142|    NULL|admin.zachwilson....|/.git/HEAD|2021-02-22 23:51:...|admin.zachwilson....| -629331492|\n",
      "|-1913422462|-906264142|    NULL|    www.eczachly.com|         /|2021-02-23 00:17:...|    www.eczachly.com|-1913422452|\n",
      "|   50429624| 532630305|    NULL|    www.eczachly.com|         /|2022-12-28 01:38:...|    www.eczachly.com|   50429634|\n",
      "|  222389292| 532630305|    NULL| www.zachwilson.tech|         /|2022-12-28 05:23:...| www.zachwilson.tech|  222389302|\n",
      "| -779924777| 532630305|    NULL| www.zachwilson.tech|         /|2022-12-28 16:45:...| www.zachwilson.tech| -779924767|\n",
      "+-----------+----------+--------+--------------------+----------+--------------------+--------------------+-----------+\n",
      "only showing top 20 rows\n",
      "\n"
     ]
    }
   ],
   "source": [
    "event_data_frame = spark.read.csv(\"file:///data/db1/events.csv\", sep=',', header=True, schema=schema)\n",
    "\n",
    "event_data_frame.createOrReplaceTempView(\"events\")\n",
    "\n",
    "df_filter_by_user_id = spark.sql(\"SELECT * FROM events WHERE user_id = 747494706\")\n",
    "\n",
    "df_filter_by_user_id.show()\n",
    "\n",
    "\n",
    "\n",
    "\n"
   ]
  }
 ],
 "metadata": {
  "kernelspec": {
   "display_name": "Python 3 (ipykernel)",
   "language": "python",
   "name": "python3"
  },
  "language_info": {
   "codemirror_mode": {
    "name": "ipython",
    "version": 3
   },
   "file_extension": ".py",
   "mimetype": "text/x-python",
   "name": "python",
   "nbconvert_exporter": "python",
   "pygments_lexer": "ipython3",
   "version": "3.9.18"
  }
 },
 "nbformat": 4,
 "nbformat_minor": 5
}
