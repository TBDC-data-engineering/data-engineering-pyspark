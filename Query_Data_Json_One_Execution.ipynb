{
 "cells": [
  {
   "cell_type": "code",
   "id": "initial_id",
   "metadata": {
    "collapsed": true,
    "ExecuteTime": {
     "end_time": "2025-07-07T23:40:17.946591Z",
     "start_time": "2025-07-07T23:40:17.939782Z"
    }
   },
   "source": [
    "from pyspark.sql import SparkSession\n",
    "from pyspark.sql.functions import explode, col\n",
    "from pyspark.sql.types import StructType, StructField, StringType, IntegerType, ArrayType\n",
    "\n"
   ],
   "outputs": [],
   "execution_count": 1
  },
  {
   "metadata": {
    "ExecuteTime": {
     "end_time": "2025-07-07T23:42:08.889117Z",
     "start_time": "2025-07-07T23:41:51.537879Z"
    }
   },
   "cell_type": "code",
   "source": [
    "#df = spark.read.option(\"multiLine\", \"true\").json(\"file:///data/data.json\")\n",
    "df = spark.read.json(\"file:///data/data.jsonl\")\n",
    "\n",
    "user_information = df.select(\n",
    "    col(\"id\"),\n",
    "    col(\"user_info.name\").alias(\"user_name\"),\n",
    "    col(\"user_info.age\").alias(\"user_age\"),\n",
    "    col(\"orders\")\n",
    ")\n",
    "\n",
    "contact_information = df.select(\n",
    "    col(\"user_info.contact.email\").alias(\"email\"),\n",
    "    col(\"user_info.contact.phone\").alias(\"phone\")\n",
    ")\n",
    "\n",
    "df_orders = user_information.withColumn(\"order\", explode(col(\"orders\")))\n",
    "\n",
    "df_orders = df_orders.select(\n",
    "    col(\"order.order_id\").alias(\"order_id\"),\n",
    "    col(\"order.product\").alias(\"product\"),\n",
    "    col(\"order.quantity\").alias(\"quantity\")\n",
    ")\n",
    "\n",
    "user_information = user_information.drop(\"orders\")\n",
    "\n",
    "user_information.write.mode(\"overwrite\").parquet(\"/data/user_information\")\n",
    "contact_information.write.mode(\"overwrite\").parquet(\"/data/contact_information\")\n",
    "df_orders.write.mode(\"overwrite\").parquet(\"/data/df_orders\")\n"
   ],
   "id": "d8d394e81a4c804d",
   "outputs": [
    {
     "name": "stderr",
     "output_type": "stream",
     "text": [
      "25/07/07 23:41:55 WARN MemoryManager: Total allocation exceeds 95.00% (1,020,054,720 bytes) of heap memory\n",
      "Scaling row group sizes to 95.00% for 8 writers\n",
      "25/07/07 23:42:00 WARN MemoryManager: Total allocation exceeds 95.00% (1,020,054,720 bytes) of heap memory\n",
      "Scaling row group sizes to 95.00% for 8 writers\n",
      "25/07/07 23:42:04 WARN MemoryManager: Total allocation exceeds 95.00% (1,020,054,720 bytes) of heap memory\n",
      "Scaling row group sizes to 95.00% for 8 writers\n",
      "                                                                                \r"
     ]
    }
   ],
   "execution_count": 3
  }
 ],
 "metadata": {
  "kernelspec": {
   "display_name": "Python 3",
   "language": "python",
   "name": "python3"
  },
  "language_info": {
   "codemirror_mode": {
    "name": "ipython",
    "version": 2
   },
   "file_extension": ".py",
   "mimetype": "text/x-python",
   "name": "python",
   "nbconvert_exporter": "python",
   "pygments_lexer": "ipython2",
   "version": "2.7.6"
  }
 },
 "nbformat": 4,
 "nbformat_minor": 5
}
